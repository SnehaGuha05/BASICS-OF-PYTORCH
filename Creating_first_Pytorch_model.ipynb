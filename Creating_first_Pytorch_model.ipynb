{
  "nbformat": 4,
  "nbformat_minor": 0,
  "metadata": {
    "colab": {
      "provenance": []
    },
    "kernelspec": {
      "name": "python3",
      "display_name": "Python 3"
    },
    "language_info": {
      "name": "python"
    }
  },
  "cells": [
    {
      "cell_type": "code",
      "execution_count": null,
      "metadata": {
        "colab": {
          "base_uri": "https://localhost:8080/",
          "height": 36
        },
        "id": "8fQqDfUjYGd-",
        "outputId": "c7376d8a-76ba-494d-d4a1-569be8d52645"
      },
      "outputs": [
        {
          "output_type": "execute_result",
          "data": {
            "text/plain": [
              "'2.8.0+cu126'"
            ],
            "application/vnd.google.colaboratory.intrinsic+json": {
              "type": "string"
            }
          },
          "metadata": {},
          "execution_count": 1
        }
      ],
      "source": [
        "import torch\n",
        "from torch import nn #nn contains all of Pytorch's building blocks for neural networks\n",
        "import matplotlib.pyplot as plt\n",
        "# Check our pytorch version\n",
        "torch.__version__"
      ]
    },
    {
      "cell_type": "code",
      "source": [
        "#data preparing and loading\n",
        "#create known parameters\n",
        "weight = 0.7\n",
        "bias = 0.3\n",
        "#create\n",
        "start = 0\n",
        "end = 1\n",
        "step = 0.02\n",
        "X = torch.arange(start, end , step).unsqueeze(dim=1) # gives extra dimensions\n",
        "y= weight * X + bias\n",
        "X[:10] , y[:10], len(X) , len(y)\n"
      ],
      "metadata": {
        "colab": {
          "base_uri": "https://localhost:8080/"
        },
        "id": "NOUqmRNHaYfR",
        "outputId": "363c440f-df0e-4f6a-a6b3-27a55928a2c7"
      },
      "execution_count": null,
      "outputs": [
        {
          "output_type": "execute_result",
          "data": {
            "text/plain": [
              "(tensor([[0.0000],\n",
              "         [0.0200],\n",
              "         [0.0400],\n",
              "         [0.0600],\n",
              "         [0.0800],\n",
              "         [0.1000],\n",
              "         [0.1200],\n",
              "         [0.1400],\n",
              "         [0.1600],\n",
              "         [0.1800]]),\n",
              " tensor([[0.3000],\n",
              "         [0.3140],\n",
              "         [0.3280],\n",
              "         [0.3420],\n",
              "         [0.3560],\n",
              "         [0.3700],\n",
              "         [0.3840],\n",
              "         [0.3980],\n",
              "         [0.4120],\n",
              "         [0.4260]]),\n",
              " 50,\n",
              " 50)"
            ]
          },
          "metadata": {},
          "execution_count": 2
        }
      ]
    },
    {
      "cell_type": "code",
      "source": [
        "len(X), len(y)"
      ],
      "metadata": {
        "colab": {
          "base_uri": "https://localhost:8080/"
        },
        "id": "Axa5IWKDdLHC",
        "outputId": "32317dfc-ed1f-4b0f-8d8d-76ed987ba5ca"
      },
      "execution_count": null,
      "outputs": [
        {
          "output_type": "execute_result",
          "data": {
            "text/plain": [
              "(50, 50)"
            ]
          },
          "metadata": {},
          "execution_count": 3
        }
      ]
    },
    {
      "cell_type": "code",
      "source": [
        "#Splitting data into the training and test sets (one of the most important concepts).\n",
        "#Some modern methods prefer three sets- the train, test and the dev(validation)set(as per Andrew Ng - Deep Learning Specialization)\n",
        "#Lets's create a training and testing set with our data\n",
        "#Create train/test split\n",
        "train_split = int(0.8*len(X))\n",
        "train_split\n",
        "X_train , y_train = X[:train_split] , y[:train_split]\n",
        "X_test , y_test = X[train_split:] , y[train_split:]\n",
        "#This is a very simple way of splitting as above example data is very simple. However most of the time Python library scikit learn is used.\n",
        "len(X_train), len(y_train) , len(X_test) , len(y_test)"
      ],
      "metadata": {
        "colab": {
          "base_uri": "https://localhost:8080/"
        },
        "id": "dtWZfxtUdRxD",
        "outputId": "12e574cc-6d7b-4dbe-b570-6c62832763c8"
      },
      "execution_count": null,
      "outputs": [
        {
          "output_type": "execute_result",
          "data": {
            "text/plain": [
              "(40, 40, 10, 10)"
            ]
          },
          "metadata": {},
          "execution_count": 4
        }
      ]
    },
    {
      "cell_type": "code",
      "source": [
        "X_train, y_train\n",
        "#How can we vizualize our data better?\n",
        "#Function to vizualize the given data\n",
        "def plot_prediction(train_data=X_train,\n",
        "                    train_labels=y_train,\n",
        "                    test_data=X_test,\n",
        "                    test_labels=y_test,\n",
        "                    predictions=None):\n",
        "  \"\"\"\n",
        "  Plots training data, test data and compare predictions.\n",
        "  \"\"\"\n",
        "  plt.figure(figsize=(10,7))\n",
        "  #Plot training data in blue\n",
        "  plt.scatter(train_data, train_labels, c=\"b\", s=4, label=\"training data\")\n",
        "  #Plot test data in green\n",
        "  plt.scatter(test_data, test_labels, c=\"g\", s=4, label=\"Testing data\")\n",
        "  #Are there predictions\n",
        "  if predictions is not None:\n",
        "    #Plot the predictions if any\n",
        "    plt.scatter(test_data, predictions, c=\"r\", s=4, label=\"Predictions\")\n",
        "  #Show the legend\n",
        "  plt.legend(prop={\"size\":14});\n"
      ],
      "metadata": {
        "id": "7qA7yyHoi2Ah"
      },
      "execution_count": null,
      "outputs": []
    },
    {
      "cell_type": "code",
      "source": [
        "plot_prediction();"
      ],
      "metadata": {
        "colab": {
          "base_uri": "https://localhost:8080/",
          "height": 599
        },
        "id": "WDt62hRAprQ1",
        "outputId": "4b37c971-74e2-4f41-b2fd-2971594505a5"
      },
      "execution_count": null,
      "outputs": [
        {
          "output_type": "display_data",
          "data": {
            "text/plain": [
              "<Figure size 1000x700 with 1 Axes>"
            ],
            "image/png": "[encoded data removed]"
          },
          "metadata": {}
        }
      ]
    },
    {
      "cell_type": "code",
      "source": [
        "# Create a Linear Regression model class\n",
        "class LinearRegressionModel(nn.Module): # <- almost everything in PyTorch is a nn.Module (think of this as neural network lego blocks)\n",
        "    def __init__(self):\n",
        "        super().__init__()\n",
        "        self.weights = nn.Parameter(torch.randn(1, # <- start with random weights (this will get adjusted as the model learns)\n",
        "                                                dtype=torch.float), # <- PyTorch loves float32 by default\n",
        "                                   requires_grad=True) # <- can we update this value with gradient descent?)\n",
        "\n",
        "        self.bias = nn.Parameter(torch.randn(1, # <- start with random bias (this will get adjusted as the model learns)\n",
        "                                            dtype=torch.float), # <- PyTorch loves float32 by default\n",
        "                                requires_grad=True) # <- can we update this value with gradient descent?))\n",
        "\n",
        "    # Forward defines the computation in the model\n",
        "    def forward(self, x: torch.Tensor) -> torch.Tensor: # <- \"x\" is the input data (e.g. training/testing features)\n",
        "        return self.weights * x + self.bias # <- this is the linear regression formula (y = m*x + b)"
      ],
      "metadata": {
        "id": "9Ui5dFZeoaiz"
      },
      "execution_count": null,
      "outputs": []
    },
    {
      "cell_type": "code",
      "source": [
        "#Pytorch model building essentials\n",
        "#Essentially the best way to find out about any function in Pytorch has to be by refering back to the Pytorch documentation.When working or in doubt refer back to documentation. A thourough read to the documentation is always prefered.\n",
        "#Also go through the videos on Pytorch by the documentation itself if required.\n",
        "#1.torch.nn - To build a model. contains all of the building blocks for computational graphs (another word for neural networks which can be considered as a computational graph).\n",
        "#2.torch.nn.Parameter - what parameters should a model try and learn , often a Pytorch layer from torch.nn will set these for us.\n",
        "#3.torch.nn.Module - The base class for all neural network modules, if you subclass it, you should override forward()\n",
        "#4.torch.optim - this is where the optimizers live in Pytorch, they will help with gradient descent.\n",
        "#5.def forward() - All nn.Module subclasses require you to overwrite forward(). This method defines what happens in the forward computation.\n",
        "#6.torch.utils.data.Dataset - Represents a map between key(label) and sample(features) pairs of your data. Such as images and their associated labels.\n",
        "#7.torch.utils.data.DataLoader - Creates Python iterable over a torch Dataset(allows you to iterate over your data).\n",
        "#8.torchvision.transforms - for computer vision\n",
        "#9. torchvision.models - has pretrained computer vision models.\n",
        "#10.torchmetrics - to evaluate our models.\n",
        "#11.torch.utils.tensorboard - To improve our models through experimentation."
      ],
      "metadata": {
        "id": "A-ziJD0U9v4Z"
      },
      "execution_count": null,
      "outputs": []
    },
    {
      "cell_type": "code",
      "source": [
        "torch.manual_seed(42)\n",
        "torch.randn(1)"
      ],
      "metadata": {
        "colab": {
          "base_uri": "https://localhost:8080/"
        },
        "id": "1Og6sLcfSUOd",
        "outputId": "a1470134-5e11-4c55-c5eb-99ddfee1e384"
      },
      "execution_count": null,
      "outputs": [
        {
          "output_type": "execute_result",
          "data": {
            "text/plain": [
              "tensor([0.3367])"
            ]
          },
          "metadata": {},
          "execution_count": 9
        }
      ]
    },
    {
      "cell_type": "code",
      "source": [
        "#Checking the contents of our first Pytorch model.\n",
        "#Checking out for the parameters of the above model module using '.parameters()'\n",
        "#Create a random seed. If we create with auto random seed we would get different values everytime.So here we are creating a manual seed here.\n",
        "torch.manual_seed(42)\n",
        "#Create an instance of the model.(This is a subclass of nn.Module).\n",
        "model_0 = LinearRegressionModel()\n",
        "#Check out the parameters\n",
        "model_0.parameters()\n",
        "list(model_0.parameters())"
      ],
      "metadata": {
        "colab": {
          "base_uri": "https://localhost:8080/"
        },
        "id": "kjRAMQQGOsOE",
        "outputId": "ea463f0f-7ec3-4946-c185-fd516d4cfd73"
      },
      "execution_count": null,
      "outputs": [
        {
          "output_type": "execute_result",
          "data": {
            "text/plain": [
              "[Parameter containing:\n",
              " tensor([0.3367], requires_grad=True),\n",
              " Parameter containing:\n",
              " tensor([0.1288], requires_grad=True)]"
            ]
          },
          "metadata": {},
          "execution_count": 10
        }
      ]
    },
    {
      "cell_type": "code",
      "source": [
        "#List named parameters\n",
        "model_0.state_dict()"
      ],
      "metadata": {
        "colab": {
          "base_uri": "https://localhost:8080/"
        },
        "id": "ifp_UU-VTpZC",
        "outputId": "75b55c3a-0de3-4b3c-e40b-d2536d7a7ea9"
      },
      "execution_count": null,
      "outputs": [
        {
          "output_type": "execute_result",
          "data": {
            "text/plain": [
              "OrderedDict([('weights', tensor([0.3367])), ('bias', tensor([0.1288]))])"
            ]
          },
          "metadata": {},
          "execution_count": 11
        }
      ]
    },
    {
      "cell_type": "code",
      "source": [
        "weight , bias"
      ],
      "metadata": {
        "colab": {
          "base_uri": "https://localhost:8080/"
        },
        "id": "fCM-WS_-ULid",
        "outputId": "ed352472-64e0-41ff-f7b8-06822603ab4a"
      },
      "execution_count": null,
      "outputs": [
        {
          "output_type": "execute_result",
          "data": {
            "text/plain": [
              "(0.7, 0.3)"
            ]
          },
          "metadata": {},
          "execution_count": 12
        }
      ]
    },
    {
      "cell_type": "code",
      "source": [
        "X_test, y_test"
      ],
      "metadata": {
        "colab": {
          "base_uri": "https://localhost:8080/"
        },
        "id": "3eAN6bvlXJOa",
        "outputId": "86382b87-b3fa-4fc5-ab7b-f4b493f0ddb3"
      },
      "execution_count": null,
      "outputs": [
        {
          "output_type": "execute_result",
          "data": {
            "text/plain": [
              "(tensor([[0.8000],\n",
              "         [0.8200],\n",
              "         [0.8400],\n",
              "         [0.8600],\n",
              "         [0.8800],\n",
              "         [0.9000],\n",
              "         [0.9200],\n",
              "         [0.9400],\n",
              "         [0.9600],\n",
              "         [0.9800]]),\n",
              " tensor([[0.8600],\n",
              "         [0.8740],\n",
              "         [0.8880],\n",
              "         [0.9020],\n",
              "         [0.9160],\n",
              "         [0.9300],\n",
              "         [0.9440],\n",
              "         [0.9580],\n",
              "         [0.9720],\n",
              "         [0.9860]]))"
            ]
          },
          "metadata": {},
          "execution_count": 13
        }
      ]
    },
    {
      "cell_type": "code",
      "source": [
        "# Make predictions with model\n",
        "#predictions with inference mode\n",
        "with torch.inference_mode(): # this is a context manager. Inference mode turns off gradient tracking. Lesser data is being processed during inference.Check out more about inference.\n",
        "    y_preds = model_0(X_test)\n",
        "\n",
        "# Note: in older PyTorch code you might also see torch.no_grad()\n",
        "# with torch.no_grad():\n",
        "#   y_preds = model_0(X_test)\n",
        "# Check the predictions\n",
        "print(f\"Number of testing samples: {len(X_test)}\")\n",
        "print(f\"Number of predictions made: {len(y_preds)}\")\n",
        "print(f\"Predicted values:\\n{y_preds}\")\n",
        "plot_prediction(predictions=y_preds)\n",
        "y_test - y_preds\n",
        "y_preds = model_0(X_test)\n",
        "y_preds"
      ],
      "metadata": {
        "colab": {
          "base_uri": "https://localhost:8080/",
          "height": 1000
        },
        "id": "VorwpmPkpTkQ",
        "outputId": "f8669f0d-5750-4523-c33c-9101d1f9bd8f"
      },
      "execution_count": null,
      "outputs": [
        {
          "output_type": "stream",
          "name": "stdout",
          "text": [
            "Number of testing samples: 10\n",
            "Number of predictions made: 10\n",
            "Predicted values:\n",
            "tensor([[0.3982],\n",
            "        [0.4049],\n",
            "        [0.4116],\n",
            "        [0.4184],\n",
            "        [0.4251],\n",
            "        [0.4318],\n",
            "        [0.4386],\n",
            "        [0.4453],\n",
            "        [0.4520],\n",
            "        [0.4588]])\n"
          ]
        },
        {
          "output_type": "execute_result",
          "data": {
            "text/plain": [
              "tensor([[0.3982],\n",
              "        [0.4049],\n",
              "        [0.4116],\n",
              "        [0.4184],\n",
              "        [0.4251],\n",
              "        [0.4318],\n",
              "        [0.4386],\n",
              "        [0.4453],\n",
              "        [0.4520],\n",
              "        [0.4588]], grad_fn=<AddBackward0>)"
            ]
          },
          "metadata": {},
          "execution_count": 14
        },
        {
          "output_type": "display_data",
          "data": {
            "text/plain": [
              "<Figure size 1000x700 with 1 Axes>"
            ],
            "image/png": "[encoded data removed]"
          },
          "metadata": {}
        }
      ]
    },
    {
      "cell_type": "code",
      "source": [
        "# Create the loss function\n",
        "loss_fn = nn.L1Loss() # MAE loss is same as L1Loss\n",
        "\n",
        "# Create the optimizer\n",
        "optimizer = torch.optim.SGD(params=model_0.parameters(), # parameters of target model to optimize\n",
        "                            lr=0.01) # learning rate (how much the optimizer should change parameters at each step, higher=more (less stable), lower=less (might take a long time))"
      ],
      "metadata": {
        "id": "PLdTFe3erN_R"
      },
      "execution_count": null,
      "outputs": []
    },
    {
      "cell_type": "code",
      "source": [
        "torch.manual_seed(42)\n",
        "# Set the number of epochs (how many times the model will pass over the training data)\n",
        "epochs = 100\n",
        "\n",
        "# Create empty loss lists to track values\n",
        "train_loss_values = []\n",
        "test_loss_values = []\n",
        "epoch_count = []\n",
        "\n",
        "for epoch in range(epochs):\n",
        "    ### Training\n",
        "\n",
        "    # Put model in training mode (this is the default state of a model)\n",
        "    model_0.train()\n",
        "\n",
        "    # 1. Forward pass on train data using the forward() method inside\n",
        "    y_pred = model_0(X_train)\n",
        "    # print(y_pred)\n",
        "\n",
        "    # 2. Calculate the loss (how different are our models predictions to the ground truth)\n",
        "    loss = loss_fn(y_pred, y_train)\n",
        "\n",
        "    # 3. Zero grad of the optimizer\n",
        "    optimizer.zero_grad()\n",
        "\n",
        "    # 4. Loss backwards\n",
        "    loss.backward()\n",
        "\n",
        "    # 5. Progress the optimizer\n",
        "    optimizer.step()\n",
        "\n",
        "    ### Testing\n",
        "\n",
        "    # Put the model in evaluation mode\n",
        "    model_0.eval()\n",
        "\n",
        "    with torch.inference_mode():\n",
        "      # 1. Forward pass on test data\n",
        "      test_pred = model_0(X_test)\n",
        "\n",
        "      # 2. Caculate loss on test data\n",
        "      test_loss = loss_fn(test_pred, y_test.type(torch.float)) # predictions come in torch.float datatype, so comparisons need to be done with tensors of the same type\n",
        "\n",
        "      # Print out what's happening\n",
        "      if epoch % 10 == 0:\n",
        "            epoch_count.append(epoch)\n",
        "            train_loss_values.append(loss.detach().numpy())\n",
        "            test_loss_values.append(test_loss.detach().numpy())\n",
        "            print(f\"Epoch: {epoch} | MAE Train Loss: {loss} | MAE Test Loss: {test_loss} \")"
      ],
      "metadata": {
        "colab": {
          "base_uri": "https://localhost:8080/"
        },
        "id": "FKnq0kurrZlq",
        "outputId": "dd27e189-87fd-4528-acd6-392d3d1d16c1"
      },
      "execution_count": null,
      "outputs": [
        {
          "output_type": "stream",
          "name": "stdout",
          "text": [
            "Epoch: 0 | MAE Train Loss: 0.31288138031959534 | MAE Test Loss: 0.48106518387794495 \n",
            "Epoch: 10 | MAE Train Loss: 0.1976713240146637 | MAE Test Loss: 0.3463551998138428 \n",
            "Epoch: 20 | MAE Train Loss: 0.08908725529909134 | MAE Test Loss: 0.21729660034179688 \n",
            "Epoch: 30 | MAE Train Loss: 0.053148526698350906 | MAE Test Loss: 0.14464017748832703 \n",
            "Epoch: 40 | MAE Train Loss: 0.04543796554207802 | MAE Test Loss: 0.11360953003168106 \n",
            "Epoch: 50 | MAE Train Loss: 0.04167863354086876 | MAE Test Loss: 0.09919948130846024 \n",
            "Epoch: 60 | MAE Train Loss: 0.03818932920694351 | MAE Test Loss: 0.08886633068323135 \n",
            "Epoch: 70 | MAE Train Loss: 0.03476089984178543 | MAE Test Loss: 0.0805937647819519 \n",
            "Epoch: 80 | MAE Train Loss: 0.03132382780313492 | MAE Test Loss: 0.07232122868299484 \n",
            "Epoch: 90 | MAE Train Loss: 0.02788739837706089 | MAE Test Loss: 0.06473556160926819 \n"
          ]
        }
      ]
    },
    {
      "cell_type": "code",
      "source": [
        "# Plot the loss curves\n",
        "plt.plot(epoch_count, train_loss_values, label=\"Train loss\")\n",
        "plt.plot(epoch_count, test_loss_values, label=\"Test loss\")\n",
        "plt.title(\"Training and test loss curves\")\n",
        "plt.ylabel(\"Loss\")\n",
        "plt.xlabel(\"Epochs\")\n",
        "plt.legend();"
      ],
      "metadata": {
        "id": "34guAA_wKY3X",
        "outputId": "19c4d4af-83f2-487d-a488-10b532f22cdf",
        "colab": {
          "base_uri": "https://localhost:8080/",
          "height": 472
        }
      },
      "execution_count": null,
      "outputs": [
        {
          "output_type": "display_data",
          "data": {
            "text/plain": [
              "<Figure size 640x480 with 1 Axes>"
            ],
            "image/png": "[encoded data removed]"
          },
          "metadata": {}
        }
      ]
    },
    {
      "cell_type": "code",
      "source": [
        "# Find our model's learned parameters\n",
        "print(\"The model learned the following values for weights and bias:\")\n",
        "print(model_0.state_dict())\n",
        "print(\"\\nAnd the original values for weights and bias are:\")\n",
        "print(f\"weights: {weight}, bias: {bias}\")"
      ],
      "metadata": {
        "colab": {
          "base_uri": "https://localhost:8080/"
        },
        "id": "jdU5Q7SOE7Hx",
        "outputId": "e9976d70-0b52-472d-feff-91cc29f676ef"
      },
      "execution_count": null,
      "outputs": [
        {
          "output_type": "stream",
          "name": "stdout",
          "text": [
            "The model learned the following values for weights and bias:\n",
            "OrderedDict({'weights': tensor([0.5784]), 'bias': tensor([0.3513])})\n",
            "\n",
            "And the original values for weights and bias are:\n",
            "weights: 0.7, bias: 0.3\n"
          ]
        }
      ]
    },
    {
      "cell_type": "code",
      "source": [
        "# 1. Set the model in evaluation mode\n",
        "model_0.eval()\n",
        "\n",
        "# 2. Setup the inference mode context manager\n",
        "with torch.inference_mode():\n",
        "  # 3. Make sure the calculations are done with the model and data on the same device\n",
        "  # in our case, we haven't setup device-agnostic code yet so our data and model are\n",
        "  # on the CPU by default.\n",
        "  # model_0.to(device)\n",
        "  # X_test = X_test.to(device)\n",
        "  y_preds = model_0(X_test)\n",
        "y_preds"
      ],
      "metadata": {
        "colab": {
          "base_uri": "https://localhost:8080/"
        },
        "id": "GWGfJt6iGZTY",
        "outputId": "75065cda-7ae7-4fc3-d809-ce70c20a7c4d"
      },
      "execution_count": null,
      "outputs": [
        {
          "output_type": "execute_result",
          "data": {
            "text/plain": [
              "tensor([[0.8141],\n",
              "        [0.8256],\n",
              "        [0.8372],\n",
              "        [0.8488],\n",
              "        [0.8603],\n",
              "        [0.8719],\n",
              "        [0.8835],\n",
              "        [0.8950],\n",
              "        [0.9066],\n",
              "        [0.9182]])"
            ]
          },
          "metadata": {},
          "execution_count": 19
        }
      ]
    },
    {
      "cell_type": "code",
      "source": [
        "plot_prediction(predictions=y_preds)"
      ],
      "metadata": {
        "colab": {
          "base_uri": "https://localhost:8080/",
          "height": 599
        },
        "id": "v0SjhZplGsot",
        "outputId": "313a971e-eb86-47a0-b01c-128358da4a2a"
      },
      "execution_count": null,
      "outputs": [
        {
          "output_type": "display_data",
          "data": {
            "text/plain": [
              "<Figure size 1000x700 with 1 Axes>"
            ],
            "image/png": "[encoded data removed]"
          },
          "metadata": {}
        }
      ]
    },
    {
      "cell_type": "code",
      "source": [
        "from pathlib import Path\n",
        "\n",
        "# 1. Create models directory\n",
        "MODEL_PATH = Path(\"models\")\n",
        "MODEL_PATH.mkdir(parents=True, exist_ok=True)\n",
        "\n",
        "# 2. Create model save path\n",
        "MODEL_NAME = \"01_pytorch_workflow_model_0.pth\"\n",
        "MODEL_SAVE_PATH = MODEL_PATH / MODEL_NAME\n",
        "\n",
        "# 3. Save the model state dict\n",
        "print(f\"Saving model to: {MODEL_SAVE_PATH}\")\n",
        "torch.save(obj=model_0.state_dict(), # only saving the state_dict() only saves the models learned parameters\n",
        "           f=MODEL_SAVE_PATH)"
      ],
      "metadata": {
        "colab": {
          "base_uri": "https://localhost:8080/"
        },
        "id": "aL3ABmHWHHGY",
        "outputId": "110d8b50-8265-4909-a908-3ddae876b4a2"
      },
      "execution_count": null,
      "outputs": [
        {
          "output_type": "stream",
          "name": "stdout",
          "text": [
            "Saving model to: models/01_pytorch_workflow_model_0.pth\n"
          ]
        }
      ]
    },
    {
      "cell_type": "code",
      "source": [
        "# Check the saved file path\n",
        "!ls -l models/01_pytorch_workflow_model_0.pth"
      ],
      "metadata": {
        "colab": {
          "base_uri": "https://localhost:8080/"
        },
        "id": "Dlvn1v-rHnhn",
        "outputId": "c47e6660-7490-4869-8c50-880a4bfbcd75"
      },
      "execution_count": null,
      "outputs": [
        {
          "output_type": "stream",
          "name": "stdout",
          "text": [
            "-rw-r--r-- 1 root root 2117 Sep 19 03:21 models/01_pytorch_workflow_model_0.pth\n"
          ]
        }
      ]
    },
    {
      "cell_type": "code",
      "source": [
        "# Instantiate a new instance of our model (this will be instantiated with random weights)\n",
        "loaded_model_0 = LinearRegressionModel()\n",
        "\n",
        "# Load the state_dict of our saved model (this will update the new instance of our model with trained weights)\n",
        "loaded_model_0.load_state_dict(torch.load(f=MODEL_SAVE_PATH))"
      ],
      "metadata": {
        "colab": {
          "base_uri": "https://localhost:8080/"
        },
        "id": "9ObPZ0h6II4w",
        "outputId": "462c02f7-c5eb-4cb4-e776-ceeee4d8fa9b"
      },
      "execution_count": null,
      "outputs": [
        {
          "output_type": "execute_result",
          "data": {
            "text/plain": [
              "<All keys matched successfully>"
            ]
          },
          "metadata": {},
          "execution_count": 23
        }
      ]
    },
    {
      "cell_type": "code",
      "source": [
        "# 1. Put the loaded model into evaluation mode\n",
        "loaded_model_0.eval()\n",
        "\n",
        "# 2. Use the inference mode context manager to make predictions\n",
        "with torch.inference_mode():\n",
        "    loaded_model_preds = loaded_model_0(X_test) # perform a forward pass on the test data with the loaded model"
      ],
      "metadata": {
        "id": "FjsIhbgrIZJ4"
      },
      "execution_count": null,
      "outputs": []
    },
    {
      "cell_type": "code",
      "source": [
        "# Compare previous model predictions with loaded model predictions (these should be the same)\n",
        "y_preds == loaded_model_preds"
      ],
      "metadata": {
        "colab": {
          "base_uri": "https://localhost:8080/"
        },
        "id": "FIjZ8BaqIdIh",
        "outputId": "2fe176d4-d6a8-4f0e-acbe-74d203526417"
      },
      "execution_count": null,
      "outputs": [
        {
          "output_type": "execute_result",
          "data": {
            "text/plain": [
              "tensor([[True],\n",
              "        [True],\n",
              "        [True],\n",
              "        [True],\n",
              "        [True],\n",
              "        [True],\n",
              "        [True],\n",
              "        [True],\n",
              "        [True],\n",
              "        [True]])"
            ]
          },
          "metadata": {},
          "execution_count": 25
        }
      ]
    }
  ]
}